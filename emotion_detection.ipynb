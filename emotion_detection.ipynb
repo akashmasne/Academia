{
  "nbformat": 4,
  "nbformat_minor": 0,
  "metadata": {
    "colab": {
      "name": "emotion_detection.ipynb",
      "provenance": [],
      "collapsed_sections": [],
      "authorship_tag": "ABX9TyOq1eQKqH7NGzmWLJUeyQpY",
      "include_colab_link": true
    },
    "kernelspec": {
      "name": "python3",
      "display_name": "Python 3"
    },
    "accelerator": "GPU"
  },
  "cells": [
    {
      "cell_type": "markdown",
      "metadata": {
        "id": "view-in-github",
        "colab_type": "text"
      },
      "source": [
        "<a href=\"https://colab.research.google.com/github/akashmasne/Academia/blob/master/emotion_detection.ipynb\" target=\"_parent\"><img src=\"https://colab.research.google.com/assets/colab-badge.svg\" alt=\"Open In Colab\"/></a>"
      ]
    },
    {
      "cell_type": "code",
      "metadata": {
        "id": "YkMEZOuY4n2X",
        "colab_type": "code",
        "colab": {}
      },
      "source": [
        "from google.colab import drive"
      ],
      "execution_count": 1,
      "outputs": []
    },
    {
      "cell_type": "code",
      "metadata": {
        "id": "YwpSYt9C5K09",
        "colab_type": "code",
        "colab": {
          "base_uri": "https://localhost:8080/",
          "height": 131
        },
        "outputId": "de882193-ba44-4db9-c5a5-7ab4ccb39299"
      },
      "source": [
        "drive.mount('/content/drive')"
      ],
      "execution_count": 3,
      "outputs": [
        {
          "output_type": "stream",
          "text": [
            "Go to this URL in a browser: https://accounts.google.com/o/oauth2/auth?client_id=947318989803-6bn6qk8qdgf4n4g3pfee6491hc0brc4i.apps.googleusercontent.com&redirect_uri=urn%3aietf%3awg%3aoauth%3a2.0%3aoob&response_type=code&scope=email%20https%3a%2f%2fwww.googleapis.com%2fauth%2fdocs.test%20https%3a%2f%2fwww.googleapis.com%2fauth%2fdrive%20https%3a%2f%2fwww.googleapis.com%2fauth%2fdrive.photos.readonly%20https%3a%2f%2fwww.googleapis.com%2fauth%2fpeopleapi.readonly\n",
            "\n",
            "Enter your authorization code:\n",
            "··········\n",
            "Mounted at /content/drive\n"
          ],
          "name": "stdout"
        }
      ]
    },
    {
      "cell_type": "code",
      "metadata": {
        "id": "RBqYHf-O80Wo",
        "colab_type": "code",
        "colab": {
          "base_uri": "https://localhost:8080/",
          "height": 36
        },
        "outputId": "ede43588-699d-4c5a-b72e-231bb7dfd6da"
      },
      "source": [
        "import pandas as pd\n",
        "import numpy as np\n",
        "from keras.models import Sequential\n",
        "from keras.layers.core import Flatten, Dense, Dropout\n",
        "from keras.layers.convolutional import Convolution2D, MaxPooling2D, ZeroPadding2D\n",
        "from keras.optimizers import SGD\n",
        "import cv2\n",
        "import os\n",
        "import numpy as np\n",
        "from keras.models import model_from_json\n",
        "from keras.preprocessing import image as keras_image\n",
        "from keras.utils import np_utils"
      ],
      "execution_count": 5,
      "outputs": [
        {
          "output_type": "stream",
          "text": [
            "Using TensorFlow backend.\n"
          ],
          "name": "stderr"
        }
      ]
    },
    {
      "cell_type": "code",
      "metadata": {
        "id": "Kbu3jlCT5XXg",
        "colab_type": "code",
        "colab": {}
      },
      "source": [
        "copied_path = 'drive/My Drive/Colab Notebooks/fer2013.csv' #remove ‘content/’ from path then use \n",
        "emotion_data = pd.read_csv(copied_path)"
      ],
      "execution_count": 15,
      "outputs": []
    },
    {
      "cell_type": "code",
      "metadata": {
        "id": "lkxobHh0J3Yb",
        "colab_type": "code",
        "colab": {}
      },
      "source": [
        "#from google.colab import files\n",
        "#uploaded = files.upload()"
      ],
      "execution_count": 14,
      "outputs": []
    },
    {
      "cell_type": "code",
      "metadata": {
        "id": "EmBO33dW8wkw",
        "colab_type": "code",
        "colab": {}
      },
      "source": [
        "X_train = []\n",
        "y_train = []\n",
        "X_test = []\n",
        "y_test = []\n",
        "for index, row in emotion_data.iterrows():\n",
        "    k = row['pixels'].split(\" \")\n",
        "    if row['Usage'] == 'Training':\n",
        "        X_train.append(np.array(k))\n",
        "        y_train.append(row['emotion'])\n",
        "    elif row['Usage'] == 'PublicTest':\n",
        "        X_test.append(np.array(k))\n",
        "        y_test.append(row['emotion'])\n",
        "\n",
        "X_train = np.array(X_train)\n",
        "y_train = np.array(y_train)\n",
        "X_test = np.array(X_test)\n",
        "y_test = np.array(y_test)\n",
        "\n",
        "X_train = X_train.reshape(X_train.shape[0], 48, 48, 1)\n",
        "X_test = X_test.reshape(X_test.shape[0], 48, 48, 1)\n",
        "\n",
        "y_train= np_utils.to_categorical(y_train, num_classes=7)\n",
        "y_test = np_utils.to_categorical(y_test, num_classes=7)\n"
      ],
      "execution_count": 16,
      "outputs": []
    },
    {
      "cell_type": "code",
      "metadata": {
        "id": "DfUfmqz9MjTh",
        "colab_type": "code",
        "colab": {
          "base_uri": "https://localhost:8080/",
          "height": 36
        },
        "outputId": "c32e18b5-3d42-442b-d966-ab12c982dcd8"
      },
      "source": [
        "emotion_data.shape"
      ],
      "execution_count": 19,
      "outputs": [
        {
          "output_type": "execute_result",
          "data": {
            "text/plain": [
              "(35887, 3)"
            ]
          },
          "metadata": {
            "tags": []
          },
          "execution_count": 19
        }
      ]
    },
    {
      "cell_type": "code",
      "metadata": {
        "id": "Vzjl9s1i9Sxh",
        "colab_type": "code",
        "colab": {
          "base_uri": "https://localhost:8080/",
          "height": 374
        },
        "outputId": "cf3a39e3-0cbc-493b-8678-7944cea22fb7"
      },
      "source": [
        "model = Sequential()\n",
        "model.add(ZeroPadding2D((1,1),input_shape=(48,48,1)))\n",
        "model.add(Convolution2D(64, 3, 3, activation='relu'))\n",
        "model.add(ZeroPadding2D((1,1)))\n",
        "model.add(Convolution2D(64, 3, 3, activation='relu'))\n",
        "model.add(MaxPooling2D((2,2), strides=(2,2)))\n",
        "\n",
        "model.add(ZeroPadding2D((1,1)))\n",
        "model.add(Convolution2D(128, 3, 3, activation='relu'))\n",
        "model.add(ZeroPadding2D((1,1)))\n",
        "model.add(Convolution2D(128, 3, 3, activation='relu'))\n",
        "model.add(MaxPooling2D((2,2), strides=(2,2)))\n",
        "\n",
        "model.add(ZeroPadding2D((1,1)))\n",
        "model.add(Convolution2D(256, 3, 3, activation='relu'))\n",
        "model.add(ZeroPadding2D((1,1)))\n",
        "model.add(Convolution2D(256, 3, 3, activation='relu'))\n",
        "model.add(ZeroPadding2D((1,1)))\n",
        "model.add(Convolution2D(256, 3, 3, activation='relu'))\n",
        "model.add(MaxPooling2D((2,2), strides=(2,2)))\n",
        "\n",
        "model.add(ZeroPadding2D((1,1)))\n",
        "model.add(Convolution2D(512, 3, 3, activation='relu'))\n",
        "model.add(ZeroPadding2D((1,1)))\n",
        "model.add(Convolution2D(512, 3, 3, activation='relu'))\n",
        "model.add(ZeroPadding2D((1,1)))\n",
        "model.add(Convolution2D(512, 3, 3, activation='relu'))\n",
        "model.add(MaxPooling2D((2,2), strides=(2,2)))\n",
        "\n",
        "model.add(ZeroPadding2D((1,1)))\n",
        "model.add(Convolution2D(512, 3, 3, activation='relu'))\n",
        "model.add(ZeroPadding2D((1,1)))\n",
        "model.add(Convolution2D(512, 3, 3, activation='relu'))\n",
        "model.add(ZeroPadding2D((1,1)))\n",
        "model.add(Convolution2D(512, 3, 3, activation='relu'))\n",
        "model.add(MaxPooling2D((2,2), strides=(2,2)))\n",
        "\n",
        "model.add(Flatten())\n",
        "model.add(Dense(4096, activation='relu'))\n",
        "model.add(Dropout(0.5))\n",
        "model.add(Dense(4096, activation='relu'))\n",
        "model.add(Dropout(0.5))\n",
        "model.add(Dense(7, activation='softmax'))\n"
      ],
      "execution_count": 18,
      "outputs": [
        {
          "output_type": "stream",
          "text": [
            "/usr/local/lib/python3.6/dist-packages/ipykernel_launcher.py:3: UserWarning: Update your `Conv2D` call to the Keras 2 API: `Conv2D(64, (3, 3), activation=\"relu\")`\n",
            "  This is separate from the ipykernel package so we can avoid doing imports until\n",
            "/usr/local/lib/python3.6/dist-packages/ipykernel_launcher.py:5: UserWarning: Update your `Conv2D` call to the Keras 2 API: `Conv2D(64, (3, 3), activation=\"relu\")`\n",
            "  \"\"\"\n",
            "/usr/local/lib/python3.6/dist-packages/ipykernel_launcher.py:9: UserWarning: Update your `Conv2D` call to the Keras 2 API: `Conv2D(128, (3, 3), activation=\"relu\")`\n",
            "  if __name__ == '__main__':\n",
            "/usr/local/lib/python3.6/dist-packages/ipykernel_launcher.py:11: UserWarning: Update your `Conv2D` call to the Keras 2 API: `Conv2D(128, (3, 3), activation=\"relu\")`\n",
            "  # This is added back by InteractiveShellApp.init_path()\n",
            "/usr/local/lib/python3.6/dist-packages/ipykernel_launcher.py:15: UserWarning: Update your `Conv2D` call to the Keras 2 API: `Conv2D(256, (3, 3), activation=\"relu\")`\n",
            "  from ipykernel import kernelapp as app\n",
            "/usr/local/lib/python3.6/dist-packages/ipykernel_launcher.py:17: UserWarning: Update your `Conv2D` call to the Keras 2 API: `Conv2D(256, (3, 3), activation=\"relu\")`\n",
            "/usr/local/lib/python3.6/dist-packages/ipykernel_launcher.py:19: UserWarning: Update your `Conv2D` call to the Keras 2 API: `Conv2D(256, (3, 3), activation=\"relu\")`\n",
            "/usr/local/lib/python3.6/dist-packages/ipykernel_launcher.py:23: UserWarning: Update your `Conv2D` call to the Keras 2 API: `Conv2D(512, (3, 3), activation=\"relu\")`\n",
            "/usr/local/lib/python3.6/dist-packages/ipykernel_launcher.py:25: UserWarning: Update your `Conv2D` call to the Keras 2 API: `Conv2D(512, (3, 3), activation=\"relu\")`\n",
            "/usr/local/lib/python3.6/dist-packages/ipykernel_launcher.py:27: UserWarning: Update your `Conv2D` call to the Keras 2 API: `Conv2D(512, (3, 3), activation=\"relu\")`\n",
            "/usr/local/lib/python3.6/dist-packages/ipykernel_launcher.py:31: UserWarning: Update your `Conv2D` call to the Keras 2 API: `Conv2D(512, (3, 3), activation=\"relu\")`\n",
            "/usr/local/lib/python3.6/dist-packages/ipykernel_launcher.py:33: UserWarning: Update your `Conv2D` call to the Keras 2 API: `Conv2D(512, (3, 3), activation=\"relu\")`\n",
            "/usr/local/lib/python3.6/dist-packages/ipykernel_launcher.py:35: UserWarning: Update your `Conv2D` call to the Keras 2 API: `Conv2D(512, (3, 3), activation=\"relu\")`\n"
          ],
          "name": "stderr"
        }
      ]
    },
    {
      "cell_type": "code",
      "metadata": {
        "id": "UfM_KPhc9Yj3",
        "colab_type": "code",
        "colab": {
          "base_uri": "https://localhost:8080/",
          "height": 1000
        },
        "outputId": "8e466662-2a46-414c-91a4-24a7f227c3e8"
      },
      "source": [
        "model.compile(optimizer='sgd',loss='categorical_crossentropy',metrics=['accuracy'])\n",
        "\n",
        "model.fit(X_train,y_train,batch_size=32,epochs=30,verbose=1,validation_data=(X_test, y_test))\n"
      ],
      "execution_count": 20,
      "outputs": [
        {
          "output_type": "stream",
          "text": [
            "Train on 28709 samples, validate on 3589 samples\n",
            "Epoch 1/30\n",
            "28709/28709 [==============================] - 67s 2ms/step - loss: 1.8252 - accuracy: 0.2471 - val_loss: 1.8187 - val_accuracy: 0.2494\n",
            "Epoch 2/30\n",
            "28709/28709 [==============================] - 66s 2ms/step - loss: 1.7694 - accuracy: 0.2739 - val_loss: 1.6582 - val_accuracy: 0.3391\n",
            "Epoch 3/30\n",
            "28709/28709 [==============================] - 67s 2ms/step - loss: 1.6072 - accuracy: 0.3641 - val_loss: 1.5342 - val_accuracy: 0.3915\n",
            "Epoch 4/30\n",
            "28709/28709 [==============================] - 67s 2ms/step - loss: 1.4763 - accuracy: 0.4243 - val_loss: 1.6488 - val_accuracy: 0.3984\n",
            "Epoch 5/30\n",
            "28709/28709 [==============================] - 66s 2ms/step - loss: 1.3760 - accuracy: 0.4653 - val_loss: 1.3720 - val_accuracy: 0.4622\n",
            "Epoch 6/30\n",
            "28709/28709 [==============================] - 66s 2ms/step - loss: 1.2823 - accuracy: 0.5075 - val_loss: 1.3431 - val_accuracy: 0.4714\n",
            "Epoch 7/30\n",
            "28709/28709 [==============================] - 66s 2ms/step - loss: 1.2004 - accuracy: 0.5424 - val_loss: 1.3621 - val_accuracy: 0.4787\n",
            "Epoch 8/30\n",
            "28709/28709 [==============================] - 66s 2ms/step - loss: 1.1162 - accuracy: 0.5794 - val_loss: 1.3322 - val_accuracy: 0.5439\n",
            "Epoch 9/30\n",
            "28709/28709 [==============================] - 66s 2ms/step - loss: 1.0388 - accuracy: 0.6109 - val_loss: 1.1919 - val_accuracy: 0.5430\n",
            "Epoch 10/30\n",
            "28709/28709 [==============================] - 66s 2ms/step - loss: 0.9566 - accuracy: 0.6445 - val_loss: 1.2231 - val_accuracy: 0.5508\n",
            "Epoch 11/30\n",
            "28709/28709 [==============================] - 66s 2ms/step - loss: 0.8740 - accuracy: 0.6743 - val_loss: 1.4785 - val_accuracy: 0.5598\n",
            "Epoch 12/30\n",
            "28709/28709 [==============================] - 66s 2ms/step - loss: 0.7937 - accuracy: 0.7047 - val_loss: 1.4983 - val_accuracy: 0.5559\n",
            "Epoch 13/30\n",
            "28709/28709 [==============================] - 67s 2ms/step - loss: 0.7112 - accuracy: 0.7381 - val_loss: 1.3194 - val_accuracy: 0.5344\n",
            "Epoch 14/30\n",
            "28709/28709 [==============================] - 67s 2ms/step - loss: 0.6243 - accuracy: 0.7739 - val_loss: 1.2865 - val_accuracy: 0.5812\n",
            "Epoch 15/30\n",
            "28709/28709 [==============================] - 67s 2ms/step - loss: 0.5419 - accuracy: 0.8051 - val_loss: 1.5675 - val_accuracy: 0.5559\n",
            "Epoch 16/30\n",
            "28709/28709 [==============================] - 67s 2ms/step - loss: 0.4643 - accuracy: 0.8358 - val_loss: 2.2627 - val_accuracy: 0.5004\n",
            "Epoch 17/30\n",
            "28709/28709 [==============================] - 66s 2ms/step - loss: 0.4100 - accuracy: 0.8550 - val_loss: 1.7912 - val_accuracy: 0.5171\n",
            "Epoch 18/30\n",
            "28709/28709 [==============================] - 66s 2ms/step - loss: 0.3455 - accuracy: 0.8789 - val_loss: 1.7923 - val_accuracy: 0.5712\n",
            "Epoch 19/30\n",
            "28709/28709 [==============================] - 66s 2ms/step - loss: 0.2949 - accuracy: 0.8985 - val_loss: 1.7691 - val_accuracy: 0.5765\n",
            "Epoch 20/30\n",
            "28709/28709 [==============================] - 66s 2ms/step - loss: 0.2457 - accuracy: 0.9187 - val_loss: 1.7913 - val_accuracy: 0.5706\n",
            "Epoch 21/30\n",
            "28709/28709 [==============================] - 66s 2ms/step - loss: 0.2158 - accuracy: 0.9272 - val_loss: 1.8806 - val_accuracy: 0.5369\n",
            "Epoch 22/30\n",
            "28709/28709 [==============================] - 66s 2ms/step - loss: 0.1800 - accuracy: 0.9406 - val_loss: 1.8097 - val_accuracy: 0.5734\n",
            "Epoch 23/30\n",
            "28709/28709 [==============================] - 66s 2ms/step - loss: 0.1582 - accuracy: 0.9488 - val_loss: 2.0102 - val_accuracy: 0.5433\n",
            "Epoch 24/30\n",
            "28709/28709 [==============================] - 66s 2ms/step - loss: 0.1392 - accuracy: 0.9558 - val_loss: 2.4377 - val_accuracy: 0.5751\n",
            "Epoch 25/30\n",
            "28709/28709 [==============================] - 66s 2ms/step - loss: 0.1160 - accuracy: 0.9650 - val_loss: 2.0833 - val_accuracy: 0.5801\n",
            "Epoch 26/30\n",
            "28709/28709 [==============================] - 66s 2ms/step - loss: 0.1049 - accuracy: 0.9677 - val_loss: 2.1245 - val_accuracy: 0.5812\n",
            "Epoch 27/30\n",
            "28709/28709 [==============================] - 66s 2ms/step - loss: 0.0857 - accuracy: 0.9730 - val_loss: 2.6593 - val_accuracy: 0.5751\n",
            "Epoch 28/30\n",
            "28709/28709 [==============================] - 66s 2ms/step - loss: 0.0922 - accuracy: 0.9707 - val_loss: 2.3161 - val_accuracy: 0.6010\n",
            "Epoch 29/30\n",
            "28709/28709 [==============================] - 66s 2ms/step - loss: 0.0781 - accuracy: 0.9757 - val_loss: 2.5636 - val_accuracy: 0.6016\n",
            "Epoch 30/30\n",
            "28709/28709 [==============================] - 66s 2ms/step - loss: 0.0747 - accuracy: 0.9763 - val_loss: 2.5289 - val_accuracy: 0.5812\n"
          ],
          "name": "stdout"
        },
        {
          "output_type": "execute_result",
          "data": {
            "text/plain": [
              "<keras.callbacks.callbacks.History at 0x7fa567406978>"
            ]
          },
          "metadata": {
            "tags": []
          },
          "execution_count": 20
        }
      ]
    },
    {
      "cell_type": "code",
      "metadata": {
        "id": "eT8VdekW9mpL",
        "colab_type": "code",
        "colab": {
          "base_uri": "https://localhost:8080/",
          "height": 54
        },
        "outputId": "79226d1b-8256-40cd-c90e-90b0626e050b"
      },
      "source": [
        "loss_and_metrics = model.evaluate(X_test,y_test)\n",
        "print(loss_and_metrics)\n"
      ],
      "execution_count": 22,
      "outputs": [
        {
          "output_type": "stream",
          "text": [
            "3589/3589 [==============================] - 5s 1ms/step\n",
            "[2.528867234888765, 0.5812203884124756]\n"
          ],
          "name": "stdout"
        }
      ]
    },
    {
      "cell_type": "code",
      "metadata": {
        "id": "1tSFfJB19y9O",
        "colab_type": "code",
        "colab": {
          "base_uri": "https://localhost:8080/",
          "height": 36
        },
        "outputId": "8710eb78-1150-4980-bf78-3311d51cb767"
      },
      "source": [
        "model_json = model.to_json()\n",
        "with open(\"model.json\", \"w\") as json_file:\n",
        "    json_file.write(model_json)\n",
        "    model.save_weights(\"model.h5\")\n",
        "print(\"Model is saved\")"
      ],
      "execution_count": 23,
      "outputs": [
        {
          "output_type": "stream",
          "text": [
            "Model is saved\n"
          ],
          "name": "stdout"
        }
      ]
    },
    {
      "cell_type": "code",
      "metadata": {
        "id": "PYkCdJZN_ifw",
        "colab_type": "code",
        "colab": {
          "base_uri": "https://localhost:8080/",
          "height": 17
        },
        "outputId": "eb71c598-59bf-4923-9579-e9e903a3928c"
      },
      "source": [
        "from google.colab import files\n",
        "files.download('model.h5')\n",
        "files.download('model.json')"
      ],
      "execution_count": 24,
      "outputs": [
        {
          "output_type": "display_data",
          "data": {
            "application/javascript": [
              "\n",
              "    async function download(id, filename, size) {\n",
              "      if (!google.colab.kernel.accessAllowed) {\n",
              "        return;\n",
              "      }\n",
              "      const div = document.createElement('div');\n",
              "      const label = document.createElement('label');\n",
              "      label.textContent = `Downloading \"${filename}\": `;\n",
              "      div.appendChild(label);\n",
              "      const progress = document.createElement('progress');\n",
              "      progress.max = size;\n",
              "      div.appendChild(progress);\n",
              "      document.body.appendChild(div);\n",
              "\n",
              "      const buffers = [];\n",
              "      let downloaded = 0;\n",
              "\n",
              "      const channel = await google.colab.kernel.comms.open(id);\n",
              "      // Send a message to notify the kernel that we're ready.\n",
              "      channel.send({})\n",
              "\n",
              "      for await (const message of channel.messages) {\n",
              "        // Send a message to notify the kernel that we're ready.\n",
              "        channel.send({})\n",
              "        if (message.buffers) {\n",
              "          for (const buffer of message.buffers) {\n",
              "            buffers.push(buffer);\n",
              "            downloaded += buffer.byteLength;\n",
              "            progress.value = downloaded;\n",
              "          }\n",
              "        }\n",
              "      }\n",
              "      const blob = new Blob(buffers, {type: 'application/binary'});\n",
              "      const a = document.createElement('a');\n",
              "      a.href = window.URL.createObjectURL(blob);\n",
              "      a.download = filename;\n",
              "      div.appendChild(a);\n",
              "      a.click();\n",
              "      div.remove();\n",
              "    }\n",
              "  "
            ],
            "text/plain": [
              "<IPython.core.display.Javascript object>"
            ]
          },
          "metadata": {
            "tags": []
          }
        },
        {
          "output_type": "display_data",
          "data": {
            "application/javascript": [
              "download(\"download_1f807f02-43d1-40e4-b833-ed4fd024a116\", \"model.h5\", 134571560)"
            ],
            "text/plain": [
              "<IPython.core.display.Javascript object>"
            ]
          },
          "metadata": {
            "tags": []
          }
        },
        {
          "output_type": "display_data",
          "data": {
            "application/javascript": [
              "\n",
              "    async function download(id, filename, size) {\n",
              "      if (!google.colab.kernel.accessAllowed) {\n",
              "        return;\n",
              "      }\n",
              "      const div = document.createElement('div');\n",
              "      const label = document.createElement('label');\n",
              "      label.textContent = `Downloading \"${filename}\": `;\n",
              "      div.appendChild(label);\n",
              "      const progress = document.createElement('progress');\n",
              "      progress.max = size;\n",
              "      div.appendChild(progress);\n",
              "      document.body.appendChild(div);\n",
              "\n",
              "      const buffers = [];\n",
              "      let downloaded = 0;\n",
              "\n",
              "      const channel = await google.colab.kernel.comms.open(id);\n",
              "      // Send a message to notify the kernel that we're ready.\n",
              "      channel.send({})\n",
              "\n",
              "      for await (const message of channel.messages) {\n",
              "        // Send a message to notify the kernel that we're ready.\n",
              "        channel.send({})\n",
              "        if (message.buffers) {\n",
              "          for (const buffer of message.buffers) {\n",
              "            buffers.push(buffer);\n",
              "            downloaded += buffer.byteLength;\n",
              "            progress.value = downloaded;\n",
              "          }\n",
              "        }\n",
              "      }\n",
              "      const blob = new Blob(buffers, {type: 'application/binary'});\n",
              "      const a = document.createElement('a');\n",
              "      a.href = window.URL.createObjectURL(blob);\n",
              "      a.download = filename;\n",
              "      div.appendChild(a);\n",
              "      a.click();\n",
              "      div.remove();\n",
              "    }\n",
              "  "
            ],
            "text/plain": [
              "<IPython.core.display.Javascript object>"
            ]
          },
          "metadata": {
            "tags": []
          }
        },
        {
          "output_type": "display_data",
          "data": {
            "application/javascript": [
              "download(\"download_27372ab1-9ece-4b4e-80c6-a00ee21224e5\", \"model.json\", 13270)"
            ],
            "text/plain": [
              "<IPython.core.display.Javascript object>"
            ]
          },
          "metadata": {
            "tags": []
          }
        }
      ]
    },
    {
      "cell_type": "code",
      "metadata": {
        "id": "esxaGqhd_6pV",
        "colab_type": "code",
        "colab": {}
      },
      "source": [
        ""
      ],
      "execution_count": null,
      "outputs": []
    },
    {
      "cell_type": "markdown",
      "metadata": {
        "id": "hIDViyj6ZedJ",
        "colab_type": "text"
      },
      "source": [
        ""
      ]
    }
  ]
}